{
 "cells": [
  {
   "cell_type": "code",
   "execution_count": 21,
   "metadata": {},
   "outputs": [],
   "source": [
    "import os\n",
    "import tomllib\n",
    "import requests"
   ]
  },
  {
   "cell_type": "code",
   "execution_count": 22,
   "metadata": {},
   "outputs": [],
   "source": [
    "cwd = os.getcwd()\n",
    "par_dir = os.path.dirname(cwd)\n",
    "toml = os.path.join(par_dir, 'secrets.toml')"
   ]
  },
  {
   "cell_type": "code",
   "execution_count": 23,
   "metadata": {},
   "outputs": [],
   "source": [
    "# Load toml\n",
    "with open(toml, 'rb') as f:\n",
    "    credentials = tomllib.load(f)"
   ]
  },
  {
   "cell_type": "code",
   "execution_count": 24,
   "metadata": {},
   "outputs": [],
   "source": [
    "login_route = \"https://www.davidsocial.com/login\"\n",
    "params = {'username': credentials['credentials']['username'], 'password': credentials['credentials']['password']}"
   ]
  },
  {
   "cell_type": "code",
   "execution_count": 25,
   "metadata": {},
   "outputs": [
    {
     "data": {
      "text/plain": [
       "'278ff753-6846-4646-9b5a-2b729f63edf7'"
      ]
     },
     "execution_count": 25,
     "metadata": {},
     "output_type": "execute_result"
    }
   ],
   "source": [
    "# Post a request to get the session\n",
    "session = requests.post(login_route, json=params, cookies=None)\n",
    "session.cookies['session']"
   ]
  },
  {
   "cell_type": "code",
   "execution_count": 26,
   "metadata": {},
   "outputs": [],
   "source": [
    "# Try make a post\n",
    "post_route = \"https://www.davidsocial.com/api/new-post\"\n",
    "post_params = {'text': 'Test post from python', 'replyTo': 0}\n",
    "# response = requests.post(post_route, json=post_params, cookies=session.cookies)\n",
    "# response"
   ]
  },
  {
   "cell_type": "code",
   "execution_count": 27,
   "metadata": {},
   "outputs": [
    {
     "data": {
      "text/plain": [
       "66"
      ]
     },
     "execution_count": 27,
     "metadata": {},
     "output_type": "execute_result"
    }
   ],
   "source": [
    "# Testing global feed\n",
    "feed_route = \"https://www.davidsocial.com/api/global-feed\"\n",
    "feed_params = {'window': 3}\n",
    "\n",
    "response = requests.post(feed_route, json=feed_params, cookies=session.cookies)\n",
    "\n",
    "len(response.json())"
   ]
  },
  {
   "cell_type": "code",
   "execution_count": 28,
   "metadata": {},
   "outputs": [
    {
     "data": {
      "text/plain": [
       "'278ff753-6846-4646-9b5a-2b729f63edf7'"
      ]
     },
     "execution_count": 28,
     "metadata": {},
     "output_type": "execute_result"
    }
   ],
   "source": [
    "session.cookies['session']"
   ]
  },
  {
   "cell_type": "code",
   "execution_count": 29,
   "metadata": {},
   "outputs": [
    {
     "data": {
      "text/plain": [
       "<Response [404]>"
      ]
     },
     "execution_count": 29,
     "metadata": {},
     "output_type": "execute_result"
    }
   ],
   "source": [
    "get_post_route = \"https://www.davidsocial.com/api/get-post\"\n",
    "replies_route = \"https://www.davidsocial.com/api/replies\"\n",
    "params = {'id': 23249}\n",
    "post = requests.post(get_post_route, json=params, cookies=session.cookies)\n",
    "replies = requests.post(replies_route, json=params, cookies=session.cookies)\n",
    "replies"
   ]
  },
  {
   "cell_type": "code",
   "execution_count": 43,
   "metadata": {},
   "outputs": [
    {
     "data": {
      "text/plain": [
       "'<!doctype html><html lang=\"en\"><head><meta charset=\"utf-8\"/><link rel=\"icon\" href=\"/favicon.ico\"/><meta name=\"viewport\" content=\"width=device-width,initial-scale=1\"/><meta name=\"theme-color\" content=\"#000000\"/><meta name=\"description\" content=\"David Social\"/><link rel=\"apple-touch-icon\" href=\"/logo192.png\"/><script src=\"https://embed.twitch.tv/embed/v1.js\"></script><script></script><link rel=\"manifest\" href=\"/manifest.json\"/><title>David</title><script defer=\"defer\" src=\"/static/js/main.5be649b0.js\"></script><link href=\"/static/css/main.d1b9c117.css\" rel=\"stylesheet\"></head><body><noscript>You need to enable JavaScript to run this app.</noscript><div id=\"root\"></div></body></html>'"
      ]
     },
     "execution_count": 43,
     "metadata": {},
     "output_type": "execute_result"
    }
   ],
   "source": [
    "get_avi_route = \"https://www.davidsocial.com/api/get-avi\"\n",
    "params = {'username': 'david'}\n",
    "# get request\n",
    "avi = requests.get(get_avi_route, params=params, cookies=None)\n",
    "avi.text"
   ]
  },
  {
   "cell_type": "code",
   "execution_count": null,
   "metadata": {},
   "outputs": [],
   "source": []
  }
 ],
 "metadata": {
  "kernelspec": {
   "display_name": "david",
   "language": "python",
   "name": "python3"
  },
  "language_info": {
   "codemirror_mode": {
    "name": "ipython",
    "version": 3
   },
   "file_extension": ".py",
   "mimetype": "text/x-python",
   "name": "python",
   "nbconvert_exporter": "python",
   "pygments_lexer": "ipython3",
   "version": "3.11.0"
  }
 },
 "nbformat": 4,
 "nbformat_minor": 2
}
