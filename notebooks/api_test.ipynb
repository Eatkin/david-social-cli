{
 "cells": [
  {
   "cell_type": "code",
   "execution_count": 15,
   "metadata": {},
   "outputs": [],
   "source": [
    "import os\n",
    "import tomllib\n",
    "import requests"
   ]
  },
  {
   "cell_type": "code",
   "execution_count": 16,
   "metadata": {},
   "outputs": [],
   "source": [
    "cwd = os.getcwd()\n",
    "par_dir = os.path.dirname(cwd)\n",
    "toml = os.path.join(par_dir, 'secrets.toml')"
   ]
  },
  {
   "cell_type": "code",
   "execution_count": 17,
   "metadata": {},
   "outputs": [],
   "source": [
    "# Load toml\n",
    "with open(toml, 'rb') as f:\n",
    "    credentials = tomllib.load(f)"
   ]
  },
  {
   "cell_type": "code",
   "execution_count": 18,
   "metadata": {},
   "outputs": [],
   "source": [
    "login_route = \"https://www.davidsocial.com/login\"\n",
    "params = {'username': credentials['credentials']['username'], 'password': credentials['credentials']['password']}"
   ]
  },
  {
   "cell_type": "code",
   "execution_count": 19,
   "metadata": {},
   "outputs": [
    {
     "data": {
      "text/plain": [
       "'3677d836-e8c6-4e5a-b7d4-65f30fa80627'"
      ]
     },
     "execution_count": 19,
     "metadata": {},
     "output_type": "execute_result"
    }
   ],
   "source": [
    "# Post a request to get the session\n",
    "session = requests.post(login_route, json=params, cookies=None)\n",
    "session.cookies['session']"
   ]
  },
  {
   "cell_type": "code",
   "execution_count": 20,
   "metadata": {},
   "outputs": [],
   "source": [
    "# Try make a post\n",
    "post_route = \"https://www.davidsocial.com/api/new-post\"\n",
    "post_params = {'text': 'Test post from python', 'replyTo': 0}\n",
    "# response = requests.post(post_route, json=post_params, cookies=session.cookies)\n",
    "# response"
   ]
  },
  {
   "cell_type": "code",
   "execution_count": 21,
   "metadata": {},
   "outputs": [
    {
     "data": {
      "text/plain": [
       "76"
      ]
     },
     "execution_count": 21,
     "metadata": {},
     "output_type": "execute_result"
    }
   ],
   "source": [
    "# Testing global feed\n",
    "feed_route = \"https://www.davidsocial.com/api/global-feed\"\n",
    "feed_params = {'window': 3}\n",
    "\n",
    "response = requests.post(feed_route, json=feed_params, cookies=session.cookies)\n",
    "\n",
    "len(response.json())"
   ]
  },
  {
   "cell_type": "code",
   "execution_count": 22,
   "metadata": {},
   "outputs": [
    {
     "data": {
      "text/plain": [
       "'3677d836-e8c6-4e5a-b7d4-65f30fa80627'"
      ]
     },
     "execution_count": 22,
     "metadata": {},
     "output_type": "execute_result"
    }
   ],
   "source": [
    "session.cookies['session']"
   ]
  },
  {
   "cell_type": "code",
   "execution_count": 42,
   "metadata": {},
   "outputs": [
    {
     "data": {
      "text/plain": [
       "<Response [404]>"
      ]
     },
     "execution_count": 42,
     "metadata": {},
     "output_type": "execute_result"
    }
   ],
   "source": [
    "get_post_route = \"https://www.davidsocial.com/api/get-post\"\n",
    "replies_route = \"https://www.davidsocial.com/api/replies\"\n",
    "params = {'id': '23249'}\n",
    "post = requests.post(get_post_route, json=params, cookies=session.cookies)\n",
    "replies = requests.post(replies_route, params=params, cookies=session.cookies)\n",
    "replies"
   ]
  },
  {
   "cell_type": "code",
   "execution_count": 43,
   "metadata": {},
   "outputs": [
    {
     "data": {
      "text/plain": [
       "'Bad Request'"
      ]
     },
     "execution_count": 43,
     "metadata": {},
     "output_type": "execute_result"
    }
   ],
   "source": [
    "get_avi_route = \"https://www.davidsocial.com/api/avi-url\"\n",
    "params = {'username': 'david'}\n",
    "# get request\n",
    "avi = requests.get(get_avi_route, data=params, cookies=None)\n",
    "avi.text"
   ]
  },
  {
   "cell_type": "code",
   "execution_count": 46,
   "metadata": {},
   "outputs": [
    {
     "data": {
      "text/plain": [
       "'<!DOCTYPE html>\\n<html lang=\"en\">\\n<head>\\n<meta charset=\"utf-8\">\\n<title>Error</title>\\n</head>\\n<body>\\n<pre>Cannot POST /api/user-posts</pre>\\n</body>\\n</html>\\n'"
      ]
     },
     "execution_count": 46,
     "metadata": {},
     "output_type": "execute_result"
    }
   ],
   "source": [
    "# Get user posts route\n",
    "get_user_posts = \"https://www.davidsocial.com/api/user-posts\"\n",
    "params = {'username': 'eatkin'}\n",
    "r = requests.post(get_user_posts, json=params, cookies=session.cookies)\n",
    "\n",
    "r.text"
   ]
  },
  {
   "cell_type": "code",
   "execution_count": 50,
   "metadata": {},
   "outputs": [
    {
     "data": {
      "text/plain": [
       "'Unauthorized'"
      ]
     },
     "execution_count": 50,
     "metadata": {},
     "output_type": "execute_result"
    }
   ],
   "source": [
    "# Bootlickers is a get request\n",
    "bootlickers_route = \"https://www.davidsocial.com/api/bootlicking\"\n",
    "params = {'username': 'eatkin'}\n",
    "r = requests.get(bootlickers_route, params=params, cookies=None)\n",
    "r.text"
   ]
  },
  {
   "cell_type": "code",
   "execution_count": null,
   "metadata": {},
   "outputs": [],
   "source": []
  }
 ],
 "metadata": {
  "kernelspec": {
   "display_name": "david",
   "language": "python",
   "name": "python3"
  },
  "language_info": {
   "codemirror_mode": {
    "name": "ipython",
    "version": 3
   },
   "file_extension": ".py",
   "mimetype": "text/x-python",
   "name": "python",
   "nbconvert_exporter": "python",
   "pygments_lexer": "ipython3",
   "version": "3.11.0"
  }
 },
 "nbformat": 4,
 "nbformat_minor": 2
}
