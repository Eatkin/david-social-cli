{
 "cells": [
  {
   "cell_type": "markdown",
   "metadata": {},
   "source": [
    "Source: [Cat kaomoji](https://emojicombos.com/cat-kaomoji/)\n",
    "\n",
    "```\n",
    "(^._.^)ﾉ\n",
    "(^._.^)ﾉ\n",
    "(^._.^)ﾉ\n",
    "``\n",
    "\n",
    "Kaomoji lineup in fixed width fonts isn't perfect so use this notebook to experiment with the spacing before writing to the csv file"
   ]
  },
  {
   "cell_type": "code",
   "execution_count": 2,
   "metadata": {},
   "outputs": [],
   "source": [
    "import csv"
   ]
  },
  {
   "cell_type": "code",
   "execution_count": 3,
   "metadata": {},
   "outputs": [],
   "source": [
    "kaomoji = []"
   ]
  },
  {
   "cell_type": "code",
   "execution_count": 4,
   "metadata": {},
   "outputs": [],
   "source": [
    "# Append the single line kaomoji\n",
    "kaomoji.append(\"ฅ^•ﻌ•^ฅ\")\n",
    "kaomoji.append(\"/ᐠ - ˕ -マ Ⳋ\")\n",
    "kaomoji.append(\"•⩊•\")\n",
    "kaomoji.append(\"/ᐠ. ｡.ᐟ\\ᵐᵉᵒʷˎˊ˗\")\n",
    "kaomoji.append(\"(=^･ω･^=)\")\n",
    "kaomoji.append(\"ᓚᘏᗢ\")\n",
    "kaomoji.append(\"ऴिाीeow\")\n",
    "kaomoji.append(\"≽^- ˕ -^≼\")\n",
    "kaomoji.append(\"≽ܫ≼\")\n",
    "kaomoji.append(\"₍^._.^₎ 𐒡\")\n",
    "kaomoji.append(\"/ᐠ - ˕ -マ Meaw...\")"
   ]
  },
  {
   "cell_type": "code",
   "execution_count": 5,
   "metadata": {},
   "outputs": [],
   "source": [
    "kaomoji.append(\"\"\"  ╱|、\n",
    "(˚ˎ 。7\n",
    " |、˜〵\n",
    "じしˍ,)ノ\"\"\")"
   ]
  },
  {
   "cell_type": "code",
   "execution_count": 6,
   "metadata": {},
   "outputs": [],
   "source": [
    "kaomoji.append(\"\"\"     ∧＿∧\n",
    "    (｡･ω･｡)つ━☆・*。\n",
    "  ⊂/    /   ・゜\n",
    "  しーＪ       °。+ * 。　\n",
    "　　　　　           .・゜\n",
    "　　　　              ゜｡ﾟﾟ･｡･ﾟﾟ。\n",
    "　　　　                ﾟ。　  ｡ﾟ\n",
    "                          ･｡･ﾟ \"\"\")"
   ]
  },
  {
   "cell_type": "code",
   "execution_count": 7,
   "metadata": {},
   "outputs": [],
   "source": [
    "kaomoji.append(\"\"\"∩-----------∩\n",
    "||   ∧ ﾍ　 ||\n",
    "||  (* ´ ｰ`) ZZzz\n",
    "|ﾉ^⌒⌒づ`￣  ＼\n",
    "(　ノ　　⌒ ヽ  ＼\n",
    "＼　　||￣￣￣￣￣||\n",
    "　 ＼,ﾉ||\"\"\")"
   ]
  },
  {
   "cell_type": "code",
   "execution_count": 8,
   "metadata": {},
   "outputs": [],
   "source": [
    "kaomoji.append(\"pat pat pat\\n　pat pat pat\\n  ᕱ⑅ᕱ　pat pat pat\\n( ๑•ᴗ•)つ\\\"__∧\\n( つ  / (•᷄ω•᷅ ｡)\\nＵ — Ｊ  (nnノ)\")"
   ]
  },
  {
   "cell_type": "code",
   "execution_count": 9,
   "metadata": {},
   "outputs": [],
   "source": [
    "kaomoji.append(\"   ∧＿∧\\n　(　･∀･)\\n　(　つ┳⊃\\nε (_)へ⌒ヽﾌ\\n (　　(　･ω･)\\n ◎―◎   ⊃  ⊃\")"
   ]
  },
  {
   "cell_type": "code",
   "execution_count": 10,
   "metadata": {},
   "outputs": [],
   "source": [
    "kaomoji.append(\"──────▄▀▄─────▄▀▄\\n─────▄█░░▀▀▀▀▀░░█▄\\n─▄▄──█░░░░░░░░░░░█──▄▄\\n█▄▄█─█░░▀░░┬░░▀░░█─█▄▄█\")"
   ]
  },
  {
   "cell_type": "code",
   "execution_count": 11,
   "metadata": {},
   "outputs": [],
   "source": [
    "kaomoji.append(\"•.,¸,.•*`•.,¸¸,.•*¯ ╭━━━━━━━━━━╮\\n•.,¸,.•*¯`•.,¸,.•*¯.|:::::::::: /___/\\n•.,¸,.•*¯`•.,¸,.•* <|:::::::::(｡ ●ω●｡)\\n•.,¸,.•¯•.,¸,.•╰ * >し---------し---Ｊ\")\n"
   ]
  },
  {
   "cell_type": "code",
   "execution_count": 12,
   "metadata": {},
   "outputs": [],
   "source": [
    "kaomoji.append(\"\"\"╭ ◜◝ ͡ ◝ ͡ ◜◝ ╮\n",
    "♡ ∧＿∧ ＿∧ ♡\n",
    "♡ (๑･ω･)ω<๑) ♡\n",
    "♡ /⌒ づ⊂⌒ヽ ♡\n",
    " 　  ╰ ͜ ͜ ͜ ͜ ╯\n",
    "O\n",
    "o\n",
    "°\n",
    "〃∩  ∧＿∧ ♡\n",
    "⊂⌒（ '·ω·）♡\n",
    "｀ヽ_っ＿/￣￣￣/\n",
    "　  　＼/＿＿＿/\"\"\")"
   ]
  },
  {
   "cell_type": "code",
   "execution_count": 16,
   "metadata": {},
   "outputs": [],
   "source": [
    "# Export to a csv\n",
    "import os\n",
    "par_dir = os.path.abspath(os.path.join(os.getcwd(), os.pardir))\n",
    "assets_dir = os.path.join(par_dir, \"assets\")\n",
    "with open(os.path.join(assets_dir, \"kaomoji.csv\"), \"w\") as f:\n",
    "    writer = csv.writer(f)\n",
    "    for k in kaomoji:\n",
    "        writer.writerow([k])"
   ]
  },
  {
   "cell_type": "code",
   "execution_count": null,
   "metadata": {},
   "outputs": [],
   "source": []
  }
 ],
 "metadata": {
  "kernelspec": {
   "display_name": "david",
   "language": "python",
   "name": "python3"
  },
  "language_info": {
   "codemirror_mode": {
    "name": "ipython",
    "version": 3
   },
   "file_extension": ".py",
   "mimetype": "text/x-python",
   "name": "python",
   "nbconvert_exporter": "python",
   "pygments_lexer": "ipython3",
   "version": "3.11.0"
  }
 },
 "nbformat": 4,
 "nbformat_minor": 2
}
